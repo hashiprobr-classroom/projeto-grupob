{
 "cells": [
  {
   "cell_type": "markdown",
   "id": "f16b87dc-ed94-4730-aca6-04e19afac4e8",
   "metadata": {},
   "source": [
    "Importações"
   ]
  },
  {
   "cell_type": "code",
   "execution_count": 1,
   "id": "f9660bc7-26f6-4cad-abca-d79e25dd29c8",
   "metadata": {
    "execution": {
     "iopub.execute_input": "2025-03-25T19:26:02.976324Z",
     "iopub.status.busy": "2025-03-25T19:26:02.975436Z",
     "iopub.status.idle": "2025-03-25T19:26:06.083976Z",
     "shell.execute_reply": "2025-03-25T19:26:06.082711Z",
     "shell.execute_reply.started": "2025-03-25T19:26:02.976246Z"
    }
   },
   "outputs": [
    {
     "data": {
      "text/html": [
       "\n",
       "    <script src=\"/static/.hidden/netpixi.min.js\"></script>\n"
      ],
      "text/plain": [
       "<IPython.core.display.HTML object>"
      ]
     },
     "metadata": {},
     "output_type": "display_data"
    }
   ],
   "source": [
    "import graph_tool_extras as gte\n",
    "from graph_tool import draw\n",
    "import numpy as np\n",
    "import pandas as pd\n",
    "import csv\n",
    "import netpixi"
   ]
  },
  {
   "cell_type": "markdown",
   "id": "7fe2147b-8e2b-44a2-8272-bda8ca1ce920",
   "metadata": {},
   "source": [
    "atribuindo path"
   ]
  },
  {
   "cell_type": "code",
   "execution_count": 2,
   "id": "2bb89a5d-b5fd-4ddc-942a-3acda344abc8",
   "metadata": {
    "execution": {
     "iopub.execute_input": "2025-03-25T19:26:08.214609Z",
     "iopub.status.busy": "2025-03-25T19:26:08.212324Z",
     "iopub.status.idle": "2025-03-25T19:26:08.221078Z",
     "shell.execute_reply": "2025-03-25T19:26:08.219715Z",
     "shell.execute_reply.started": "2025-03-25T19:26:08.214433Z"
    }
   },
   "outputs": [],
   "source": [
    "PATH = './bilateral-remittance.csv'"
   ]
  },
  {
   "cell_type": "markdown",
   "id": "22fbea21-723b-48ff-8e2f-0e7cca6ec090",
   "metadata": {},
   "source": [
    "## Leitura dos dados"
   ]
  },
  {
   "cell_type": "code",
   "execution_count": 3,
   "id": "1c98d96a-06a5-4cc1-ada3-0165cfcb7e11",
   "metadata": {
    "execution": {
     "iopub.execute_input": "2025-03-25T19:26:10.008683Z",
     "iopub.status.busy": "2025-03-25T19:26:10.008106Z",
     "iopub.status.idle": "2025-03-25T19:26:10.034782Z",
     "shell.execute_reply": "2025-03-25T19:26:10.033734Z",
     "shell.execute_reply.started": "2025-03-25T19:26:10.008608Z"
    }
   },
   "outputs": [],
   "source": [
    "data = pd.read_csv(PATH)"
   ]
  },
  {
   "cell_type": "code",
   "execution_count": 4,
   "id": "60d4e1c0-b399-4a8f-a2e7-bb9ec2fff094",
   "metadata": {
    "execution": {
     "iopub.execute_input": "2025-03-25T19:26:10.512306Z",
     "iopub.status.busy": "2025-03-25T19:26:10.511299Z",
     "iopub.status.idle": "2025-03-25T19:26:10.558849Z",
     "shell.execute_reply": "2025-03-25T19:26:10.557767Z",
     "shell.execute_reply.started": "2025-03-25T19:26:10.512234Z"
    }
   },
   "outputs": [
    {
     "data": {
      "text/html": [
       "<div>\n",
       "<style scoped>\n",
       "    .dataframe tbody tr th:only-of-type {\n",
       "        vertical-align: middle;\n",
       "    }\n",
       "\n",
       "    .dataframe tbody tr th {\n",
       "        vertical-align: top;\n",
       "    }\n",
       "\n",
       "    .dataframe thead th {\n",
       "        text-align: right;\n",
       "    }\n",
       "</style>\n",
       "<table border=\"1\" class=\"dataframe\">\n",
       "  <thead>\n",
       "    <tr style=\"text-align: right;\">\n",
       "      <th></th>\n",
       "      <th>Unnamed: 0</th>\n",
       "      <th>Remittance-receiving country (across)                                                              -                                                 Remittance-sending country (down)</th>\n",
       "      <th>Afghanistan</th>\n",
       "      <th>Albania</th>\n",
       "      <th>Algeria</th>\n",
       "      <th>American Samoa</th>\n",
       "      <th>Andorra</th>\n",
       "      <th>Angola</th>\n",
       "      <th>Antigua and Barbuda</th>\n",
       "      <th>Argentina</th>\n",
       "      <th>...</th>\n",
       "      <th>Uzbekistan</th>\n",
       "      <th>Vanuatu</th>\n",
       "      <th>Venezuela, RB</th>\n",
       "      <th>Vietnam</th>\n",
       "      <th>Virgin Islands (U.S.)</th>\n",
       "      <th>West Bank and Gaza</th>\n",
       "      <th>Yemen, Rep.</th>\n",
       "      <th>Zambia</th>\n",
       "      <th>Zimbabwe</th>\n",
       "      <th>World</th>\n",
       "    </tr>\n",
       "  </thead>\n",
       "  <tbody>\n",
       "    <tr>\n",
       "      <th>0</th>\n",
       "      <td>0</td>\n",
       "      <td>Afghanistan</td>\n",
       "      <td>0.0</td>\n",
       "      <td>0.0</td>\n",
       "      <td>0.0</td>\n",
       "      <td>0.0</td>\n",
       "      <td>0.0</td>\n",
       "      <td>0.0</td>\n",
       "      <td>0.0</td>\n",
       "      <td>0.000000</td>\n",
       "      <td>...</td>\n",
       "      <td>0.0</td>\n",
       "      <td>0.0</td>\n",
       "      <td>0.0</td>\n",
       "      <td>0.00000</td>\n",
       "      <td>0.0</td>\n",
       "      <td>0.000000</td>\n",
       "      <td>0.000000</td>\n",
       "      <td>0.0</td>\n",
       "      <td>0.0</td>\n",
       "      <td>172.238651</td>\n",
       "    </tr>\n",
       "    <tr>\n",
       "      <th>1</th>\n",
       "      <td>1</td>\n",
       "      <td>Albania</td>\n",
       "      <td>0.0</td>\n",
       "      <td>0.0</td>\n",
       "      <td>0.0</td>\n",
       "      <td>0.0</td>\n",
       "      <td>0.0</td>\n",
       "      <td>0.0</td>\n",
       "      <td>0.0</td>\n",
       "      <td>0.000000</td>\n",
       "      <td>...</td>\n",
       "      <td>0.0</td>\n",
       "      <td>0.0</td>\n",
       "      <td>0.0</td>\n",
       "      <td>0.00000</td>\n",
       "      <td>0.0</td>\n",
       "      <td>0.000000</td>\n",
       "      <td>0.000000</td>\n",
       "      <td>0.0</td>\n",
       "      <td>0.0</td>\n",
       "      <td>184.977059</td>\n",
       "    </tr>\n",
       "    <tr>\n",
       "      <th>2</th>\n",
       "      <td>2</td>\n",
       "      <td>Algeria</td>\n",
       "      <td>0.0</td>\n",
       "      <td>0.0</td>\n",
       "      <td>0.0</td>\n",
       "      <td>0.0</td>\n",
       "      <td>0.0</td>\n",
       "      <td>0.0</td>\n",
       "      <td>0.0</td>\n",
       "      <td>0.000000</td>\n",
       "      <td>...</td>\n",
       "      <td>0.0</td>\n",
       "      <td>0.0</td>\n",
       "      <td>0.0</td>\n",
       "      <td>0.00000</td>\n",
       "      <td>0.0</td>\n",
       "      <td>30.163722</td>\n",
       "      <td>7.459294</td>\n",
       "      <td>0.0</td>\n",
       "      <td>0.0</td>\n",
       "      <td>189.223264</td>\n",
       "    </tr>\n",
       "    <tr>\n",
       "      <th>3</th>\n",
       "      <td>3</td>\n",
       "      <td>American Samoa</td>\n",
       "      <td>0.0</td>\n",
       "      <td>0.0</td>\n",
       "      <td>0.0</td>\n",
       "      <td>0.0</td>\n",
       "      <td>0.0</td>\n",
       "      <td>0.0</td>\n",
       "      <td>0.0</td>\n",
       "      <td>0.000000</td>\n",
       "      <td>...</td>\n",
       "      <td>0.0</td>\n",
       "      <td>0.0</td>\n",
       "      <td>0.0</td>\n",
       "      <td>1.05771</td>\n",
       "      <td>0.0</td>\n",
       "      <td>0.000000</td>\n",
       "      <td>0.000000</td>\n",
       "      <td>0.0</td>\n",
       "      <td>0.0</td>\n",
       "      <td>32.184421</td>\n",
       "    </tr>\n",
       "    <tr>\n",
       "      <th>4</th>\n",
       "      <td>4</td>\n",
       "      <td>Andorra</td>\n",
       "      <td>0.0</td>\n",
       "      <td>0.0</td>\n",
       "      <td>0.0</td>\n",
       "      <td>0.0</td>\n",
       "      <td>0.0</td>\n",
       "      <td>0.0</td>\n",
       "      <td>0.0</td>\n",
       "      <td>0.403279</td>\n",
       "      <td>...</td>\n",
       "      <td>0.0</td>\n",
       "      <td>0.0</td>\n",
       "      <td>0.0</td>\n",
       "      <td>0.00000</td>\n",
       "      <td>0.0</td>\n",
       "      <td>0.000000</td>\n",
       "      <td>0.000000</td>\n",
       "      <td>0.0</td>\n",
       "      <td>0.0</td>\n",
       "      <td>279.963568</td>\n",
       "    </tr>\n",
       "  </tbody>\n",
       "</table>\n",
       "<p>5 rows × 217 columns</p>\n",
       "</div>"
      ],
      "text/plain": [
       "   Unnamed: 0  \\\n",
       "0           0   \n",
       "1           1   \n",
       "2           2   \n",
       "3           3   \n",
       "4           4   \n",
       "\n",
       "  Remittance-receiving country (across)                                                              -                                                 Remittance-sending country (down)   \\\n",
       "0                                        Afghanistan                                                                                                                                        \n",
       "1                                            Albania                                                                                                                                        \n",
       "2                                            Algeria                                                                                                                                        \n",
       "3                                     American Samoa                                                                                                                                        \n",
       "4                                            Andorra                                                                                                                                        \n",
       "\n",
       "   Afghanistan  Albania  Algeria  American Samoa  Andorra  Angola  \\\n",
       "0          0.0      0.0      0.0             0.0      0.0     0.0   \n",
       "1          0.0      0.0      0.0             0.0      0.0     0.0   \n",
       "2          0.0      0.0      0.0             0.0      0.0     0.0   \n",
       "3          0.0      0.0      0.0             0.0      0.0     0.0   \n",
       "4          0.0      0.0      0.0             0.0      0.0     0.0   \n",
       "\n",
       "   Antigua and Barbuda  Argentina  ...  Uzbekistan  Vanuatu  Venezuela, RB  \\\n",
       "0                  0.0   0.000000  ...         0.0      0.0            0.0   \n",
       "1                  0.0   0.000000  ...         0.0      0.0            0.0   \n",
       "2                  0.0   0.000000  ...         0.0      0.0            0.0   \n",
       "3                  0.0   0.000000  ...         0.0      0.0            0.0   \n",
       "4                  0.0   0.403279  ...         0.0      0.0            0.0   \n",
       "\n",
       "   Vietnam  Virgin Islands (U.S.)  West Bank and Gaza  Yemen, Rep.  Zambia  \\\n",
       "0  0.00000                    0.0            0.000000     0.000000     0.0   \n",
       "1  0.00000                    0.0            0.000000     0.000000     0.0   \n",
       "2  0.00000                    0.0           30.163722     7.459294     0.0   \n",
       "3  1.05771                    0.0            0.000000     0.000000     0.0   \n",
       "4  0.00000                    0.0            0.000000     0.000000     0.0   \n",
       "\n",
       "   Zimbabwe       World  \n",
       "0       0.0  172.238651  \n",
       "1       0.0  184.977059  \n",
       "2       0.0  189.223264  \n",
       "3       0.0   32.184421  \n",
       "4       0.0  279.963568  \n",
       "\n",
       "[5 rows x 217 columns]"
      ]
     },
     "execution_count": 4,
     "metadata": {},
     "output_type": "execute_result"
    }
   ],
   "source": [
    "data.head()"
   ]
  },
  {
   "cell_type": "markdown",
   "id": "9391c317-69cf-4669-ab46-0626e2a05aa2",
   "metadata": {},
   "source": [
    "## Construção do grafo"
   ]
  },
  {
   "cell_type": "code",
   "execution_count": 5,
   "id": "f39db37f-219b-4468-9041-2677877ba843",
   "metadata": {
    "execution": {
     "iopub.execute_input": "2025-03-25T19:26:13.026404Z",
     "iopub.status.busy": "2025-03-25T19:26:13.025389Z",
     "iopub.status.idle": "2025-03-25T19:26:13.040173Z",
     "shell.execute_reply": "2025-03-25T19:26:13.036914Z",
     "shell.execute_reply.started": "2025-03-25T19:26:13.026329Z"
    }
   },
   "outputs": [],
   "source": [
    "g = gte.Graph(directed=True) # dirigida\n",
    "\n"
   ]
  },
  {
   "cell_type": "code",
   "execution_count": 6,
   "id": "93c54720-7aef-4003-9f7f-2ce5001c9cea",
   "metadata": {
    "execution": {
     "iopub.execute_input": "2025-03-25T19:26:14.843104Z",
     "iopub.status.busy": "2025-03-25T19:26:14.842753Z",
     "iopub.status.idle": "2025-03-25T19:26:14.849848Z",
     "shell.execute_reply": "2025-03-25T19:26:14.848721Z",
     "shell.execute_reply.started": "2025-03-25T19:26:14.843078Z"
    }
   },
   "outputs": [],
   "source": [
    "# Adicionar propriedades ao grafo\n",
    "g.add_vp('total_out')  # Total de remessas enviadas por cada país\n",
    "g.add_vp('total_in')   # Total de remessas recebidas por cada país\n",
    "g.add_ep('value')      # Valor da remessa entre dois países"
   ]
  },
  {
   "cell_type": "code",
   "execution_count": 7,
   "id": "db31ceb0-dca8-4c94-8266-c4a1c5df457f",
   "metadata": {
    "execution": {
     "iopub.execute_input": "2025-03-25T19:26:17.267945Z",
     "iopub.status.busy": "2025-03-25T19:26:17.267571Z",
     "iopub.status.idle": "2025-03-25T19:26:17.274892Z",
     "shell.execute_reply": "2025-03-25T19:26:17.273732Z",
     "shell.execute_reply.started": "2025-03-25T19:26:17.267916Z"
    }
   },
   "outputs": [],
   "source": [
    "# Lista de países (colunas do dataset, excluindo a primeira que é apenas um índice)\n",
    "# O primeiro problema está aqui - vamos corrigir a lista de países\n",
    "# Primeiro, vamos ignorar a primeira coluna que é apenas um índice\n",
    "data_columns = data.columns[1:]\n",
    "\n",
    "# O primeiro nome de coluna parece ser o cabeçalho que contém a descrição \n",
    "# Vamos removê-lo da lista de países\n",
    "header_column = data_columns[0]  # Coluna com o nome longo que causa o erro\n",
    "actual_countries = data_columns[1:]  # Lista real de países (colunas)\n",
    "\n",
    "# Vamos ver quais são os países de origem (nas linhas)\n",
    "sending_countries = data[header_column].tolist()\n",
    "sending_countries = [country for country in sending_countries if isinstance(country, str)]\n",
    "\n",
    "# Criar um conjunto de todos os países (união dos que enviam e recebem)\n",
    "all_countries = set(actual_countries).union(set(sending_countries))"
   ]
  },
  {
   "cell_type": "code",
   "execution_count": 8,
   "id": "0b32ea67-f28f-42c3-8833-157d8293068a",
   "metadata": {
    "execution": {
     "iopub.execute_input": "2025-03-25T19:26:18.457896Z",
     "iopub.status.busy": "2025-03-25T19:26:18.456977Z",
     "iopub.status.idle": "2025-03-25T19:26:18.487698Z",
     "shell.execute_reply": "2025-03-25T19:26:18.485758Z",
     "shell.execute_reply.started": "2025-03-25T19:26:18.457827Z"
    }
   },
   "outputs": [],
   "source": [
    "# Adicionar países como vértices\n",
    "for country in all_countries:\n",
    "    if country and isinstance(country, str):  # Verificar se não é None ou NaN\n",
    "        v = g.add_vertex_by_id(country)\n",
    "        v['total_out'] = 0\n",
    "        v['total_in'] = 0"
   ]
  },
  {
   "cell_type": "code",
   "execution_count": 9,
   "id": "1ebd2ab2-c508-4076-a695-6333e87623d9",
   "metadata": {
    "execution": {
     "iopub.execute_input": "2025-03-25T19:26:18.945673Z",
     "iopub.status.busy": "2025-03-25T19:26:18.944742Z",
     "iopub.status.idle": "2025-03-25T19:26:20.440820Z",
     "shell.execute_reply": "2025-03-25T19:26:20.439753Z",
     "shell.execute_reply.started": "2025-03-25T19:26:18.945555Z"
    }
   },
   "outputs": [],
   "source": [
    "# Adicionar remessas como arestas\n",
    "for i, row in data.iterrows():\n",
    "    sender = row[header_column]\n",
    "    \n",
    "    # Verificar se o remetente é válido\n",
    "    if not isinstance(sender, str):\n",
    "        continue\n",
    "        \n",
    "    for receiver in actual_countries:\n",
    "        # Verificar se temos um valor válido de remessa\n",
    "        try:\n",
    "            # Tentar limpar o valor (remover caracteres não numéricos)\n",
    "            value_str = str(row[receiver])\n",
    "            # Remover '*' e outros caracteres não numéricos, mas manter o ponto decimal\n",
    "            value_clean = ''.join(c for c in value_str if c.isdigit() or c == '.')\n",
    "            \n",
    "            # Se depois de limpar, ainda temos um valor\n",
    "            if value_clean and pd.notna(value_clean):\n",
    "                value = float(value_clean)\n",
    "                if value > 0:\n",
    "                    # Verificar se ambos os países existem no grafo\n",
    "                    if g.vertex_by_id(sender) is not None and g.vertex_by_id(receiver) is not None:\n",
    "                        # Adicionar aresta representando a remessa\n",
    "                        e = g.add_edge_by_ids(sender, receiver)\n",
    "                        e['value'] = value\n",
    "                        \n",
    "                        # Atualizar totais\n",
    "                        sender_vertex = g.vertex_by_id(sender)\n",
    "                        receiver_vertex = g.vertex_by_id(receiver)\n",
    "                        \n",
    "                        sender_vertex['total_out'] += value\n",
    "                        receiver_vertex['total_in'] += value\n",
    "        except (ValueError, TypeError):\n",
    "            # Se houver algum erro de conversão, simplesmente pular este valor\n",
    "            continue"
   ]
  },
  {
   "cell_type": "code",
   "execution_count": 10,
   "id": "285618b7-2317-4fe7-8c0f-e713fd5d8dd2",
   "metadata": {
    "execution": {
     "iopub.execute_input": "2025-03-25T19:26:20.442455Z",
     "iopub.status.busy": "2025-03-25T19:26:20.442142Z",
     "iopub.status.idle": "2025-03-25T19:26:21.448837Z",
     "shell.execute_reply": "2025-03-25T19:26:21.447739Z",
     "shell.execute_reply.started": "2025-03-25T19:26:20.442429Z"
    }
   },
   "outputs": [],
   "source": [
    "# Salvar a rede\n",
    "gte.save(g, 'remittances_network.net.gz')"
   ]
  },
  {
   "cell_type": "code",
   "execution_count": 11,
   "id": "9556090b-f4ed-4ee4-a612-04dc3a79fd92",
   "metadata": {
    "execution": {
     "iopub.execute_input": "2025-03-25T19:26:22.378022Z",
     "iopub.status.busy": "2025-03-25T19:26:22.376957Z",
     "iopub.status.idle": "2025-03-25T19:26:22.392077Z",
     "shell.execute_reply": "2025-03-25T19:26:22.388771Z",
     "shell.execute_reply.started": "2025-03-25T19:26:22.377927Z"
    }
   },
   "outputs": [
    {
     "name": "stdout",
     "output_type": "stream",
     "text": [
      "A rede de remessas tem 215 vértices (países)\n",
      "A rede de remessas tem 12295 arestas (fluxos de remessas)\n"
     ]
    }
   ],
   "source": [
    "# Info \n",
    "num_vertices = g.num_vertices()\n",
    "num_edges = g.num_edges()\n",
    "\n",
    "print(f\"A rede de remessas tem {num_vertices} vértices (países)\")\n",
    "print(f\"A rede de remessas tem {num_edges} arestas (fluxos de remessas)\")"
   ]
  },
  {
   "cell_type": "code",
   "execution_count": 12,
   "id": "defff6fe-0cd2-4425-9298-c872797ce547",
   "metadata": {
    "execution": {
     "iopub.execute_input": "2025-03-25T19:26:23.494770Z",
     "iopub.status.busy": "2025-03-25T19:26:23.493822Z",
     "iopub.status.idle": "2025-03-25T19:26:25.374874Z",
     "shell.execute_reply": "2025-03-25T19:26:25.373706Z",
     "shell.execute_reply.started": "2025-03-25T19:26:23.494695Z"
    }
   },
   "outputs": [],
   "source": [
    "# Posicionar os vértices para visualização\n",
    "layout = draw.sfdp_layout(g)\n",
    "gte.move(g, layout)\n",
    "gte.save(g, 'remittances_network_positioned.net.gz')"
   ]
  },
  {
   "cell_type": "code",
   "execution_count": 13,
   "id": "e6a0880b-bc7b-4cf7-8968-ded5c513550f",
   "metadata": {
    "execution": {
     "iopub.execute_input": "2025-03-25T19:26:26.001777Z",
     "iopub.status.busy": "2025-03-25T19:26:26.000215Z",
     "iopub.status.idle": "2025-03-25T19:26:26.023256Z",
     "shell.execute_reply": "2025-03-25T19:26:26.021731Z",
     "shell.execute_reply.started": "2025-03-25T19:26:26.001583Z"
    },
    "scrolled": true
   },
   "outputs": [
    {
     "data": {
      "text/html": [
       "\n",
       "        <div id=\"Hk7jYTLrbYchcqkKRx5ti8\"></div>\n",
       "        <script>netpixi.render('Hk7jYTLrbYchcqkKRx5ti8', '/static/__shared__/remittances_network_positioned.net.gz', 1.7777777777777777, true, false, false, true);</script>\n",
       "    "
      ],
      "text/plain": [
       "<IPython.core.display.HTML object>"
      ]
     },
     "metadata": {},
     "output_type": "display_data"
    },
    {
     "data": {
      "text/plain": [
       "<netpixi.Render at 0x7f3e765530e0>"
      ]
     },
     "execution_count": 13,
     "metadata": {},
     "output_type": "execute_result"
    }
   ],
   "source": [
    "# Visualizar a rede\n",
    "netpixi.render('remittances_network_positioned.net.gz')"
   ]
  },
  {
   "cell_type": "code",
   "execution_count": 14,
   "id": "15174774-0080-4728-814c-b30a4bde1867",
   "metadata": {
    "execution": {
     "iopub.execute_input": "2025-03-25T19:26:28.330569Z",
     "iopub.status.busy": "2025-03-25T19:26:28.329074Z",
     "iopub.status.idle": "2025-03-25T19:26:29.544212Z",
     "shell.execute_reply": "2025-03-25T19:26:29.542735Z",
     "shell.execute_reply.started": "2025-03-25T19:26:28.330429Z"
    },
    "scrolled": true
   },
   "outputs": [
    {
     "name": "stdout",
     "output_type": "stream",
     "text": [
      "Mediana de remessas enviadas: 435.34\n",
      "Mediana de remessas recebidas: 741.19\n",
      "Limite mínimo para países remetentes: 43.53\n",
      "Limite mínimo para países destinatários: 74.12\n",
      "Número de países remetentes relevantes: 185\n",
      "Número de países destinatários relevantes: 158\n",
      "Número total de países relevantes: 199\n",
      "\n",
      "Rede filtrada:\n",
      "- Número de vértices (países): 199\n",
      "- Número de arestas (fluxos de remessas): 11687\n"
     ]
    }
   ],
   "source": [
    "# Coletar totais de remessas enviadas e recebidas por país\n",
    "country_totals_sent = {}\n",
    "country_totals_received = {}\n",
    "\n",
    "for i, row in data.iterrows():\n",
    "    sender = row[header_column]\n",
    "    \n",
    "    if not isinstance(sender, str):\n",
    "        continue\n",
    "    \n",
    "    # Inicializar remetente se ainda não existir\n",
    "    if sender not in country_totals_sent:\n",
    "        country_totals_sent[sender] = 0\n",
    "    \n",
    "    for receiver in actual_countries:\n",
    "        # Inicializar destinatário se ainda não existir\n",
    "        if receiver not in country_totals_received:\n",
    "            country_totals_received[receiver] = 0\n",
    "        \n",
    "        try:\n",
    "            value_str = str(row[receiver])\n",
    "            value_clean = ''.join(c for c in value_str if c.isdigit() or c == '.')\n",
    "            \n",
    "            if value_clean and pd.notna(value_clean):\n",
    "                value = float(value_clean)\n",
    "                if value > 0:\n",
    "                    # Adicionar ao total do remetente\n",
    "                    country_totals_sent[sender] += value\n",
    "                    # Adicionar ao total do destinatário\n",
    "                    country_totals_received[receiver] += value\n",
    "        except (ValueError, TypeError):\n",
    "            continue\n",
    "\n",
    "# Converter para listas para calcular estatísticas\n",
    "sent_values = list(country_totals_sent.values())\n",
    "received_values = list(country_totals_received.values())\n",
    "\n",
    "# Calcular medianas\n",
    "if sent_values:\n",
    "    median_sent = np.median(sent_values)\n",
    "    print(f\"Mediana de remessas enviadas: {median_sent:.2f}\")\n",
    "else:\n",
    "    median_sent = 0\n",
    "    print(\"Não há dados suficientes para calcular a mediana de remessas enviadas\")\n",
    "\n",
    "if received_values:\n",
    "    median_received = np.median(received_values)\n",
    "    print(f\"Mediana de remessas recebidas: {median_received:.2f}\")\n",
    "else:\n",
    "    median_received = 0\n",
    "    print(\"Não há dados suficientes para calcular a mediana de remessas recebidas\")\n",
    "\n",
    "# Definir limites (por exemplo, 10% da mediana)\n",
    "min_sent_threshold = median_sent * 0.1\n",
    "min_received_threshold = median_received * 0.1\n",
    "\n",
    "print(f\"Limite mínimo para países remetentes: {min_sent_threshold:.2f}\")\n",
    "print(f\"Limite mínimo para países destinatários: {min_received_threshold:.2f}\")\n",
    "\n",
    "# Filtrar países relevantes\n",
    "relevant_senders = {country for country, total in country_totals_sent.items() if total >= min_sent_threshold}\n",
    "relevant_receivers = {country for country, total in country_totals_received.items() if total >= min_received_threshold}\n",
    "\n",
    "# União dos conjuntos para ter todos os países relevantes\n",
    "relevant_countries = relevant_senders.union(relevant_receivers)\n",
    "\n",
    "print(f\"Número de países remetentes relevantes: {len(relevant_senders)}\")\n",
    "print(f\"Número de países destinatários relevantes: {len(relevant_receivers)}\")\n",
    "print(f\"Número total de países relevantes: {len(relevant_countries)}\")\n",
    "\n",
    "# Criar o grafo apenas com países relevantes\n",
    "g = gte.Graph(directed=True)\n",
    "g.add_vp('total_out')\n",
    "g.add_vp('total_in')\n",
    "g.add_ep('value')\n",
    "\n",
    "# Adicionar apenas países relevantes como vértices\n",
    "for country in relevant_countries:\n",
    "    v = g.add_vertex_by_id(country)\n",
    "    v['total_out'] = country_totals_sent.get(country, 0)\n",
    "    v['total_in'] = country_totals_received.get(country, 0)\n",
    "\n",
    "# Adicionar remessas como arestas (apenas entre países relevantes)\n",
    "for i, row in data.iterrows():\n",
    "    sender = row[header_column]\n",
    "    \n",
    "    if not isinstance(sender, str) or sender not in relevant_countries:\n",
    "        continue\n",
    "        \n",
    "    for receiver in actual_countries:\n",
    "        if receiver not in relevant_countries:\n",
    "            continue\n",
    "            \n",
    "        try:\n",
    "            value_str = str(row[receiver])\n",
    "            value_clean = ''.join(c for c in value_str if c.isdigit() or c == '.')\n",
    "            \n",
    "            if value_clean and pd.notna(value_clean):\n",
    "                value = float(value_clean)\n",
    "                if value > 0:\n",
    "                    e = g.add_edge_by_ids(sender, receiver)\n",
    "                    e['value'] = value\n",
    "        except (ValueError, TypeError):\n",
    "            continue\n",
    "\n",
    "# Imprimir informações sobre a rede filtrada\n",
    "print(f\"\\nRede filtrada:\")\n",
    "print(f\"- Número de vértices (países): {g.num_vertices()}\")\n",
    "print(f\"- Número de arestas (fluxos de remessas): {g.num_edges()}\") "
   ]
  },
  {
   "cell_type": "code",
   "execution_count": 15,
   "id": "fc85408f-6efe-4c30-8b7d-e207db792ff5",
   "metadata": {
    "execution": {
     "iopub.execute_input": "2025-03-25T19:26:30.389124Z",
     "iopub.status.busy": "2025-03-25T19:26:30.388228Z",
     "iopub.status.idle": "2025-03-25T19:26:44.286482Z",
     "shell.execute_reply": "2025-03-25T19:26:44.285369Z",
     "shell.execute_reply.started": "2025-03-25T19:26:30.389058Z"
    }
   },
   "outputs": [
    {
     "name": "stdout",
     "output_type": "stream",
     "text": [
      "\n",
      "Ajustes aplicados:\n",
      "- Tamanho dos vértices reduzido para 5\n",
      "- Espessura das arestas reduzida para 0.5\n"
     ]
    }
   ],
   "source": [
    "# Criar propriedades para reduzir tamanho dos vértices e espessura das arestas\n",
    "vertex_size = g.new_vp(\"double\")\n",
    "edge_width = g.new_ep(\"double\")\n",
    "\n",
    "# Definir um tamanho fixo menor para os vértices\n",
    "default_vertex_size = 5  # Valor arbitrário para simplificação\n",
    "\n",
    "# Definir uma espessura fixa menor para as arestas\n",
    "default_edge_width = 0.5  # Valor arbitrário para simplificação\n",
    "\n",
    "# Aplicar os valores aos vértices e arestas\n",
    "for v in g.vertices():\n",
    "    vertex_size[v] = default_vertex_size\n",
    "\n",
    "for e in g.edges():\n",
    "    edge_width[e] = default_edge_width\n",
    "\n",
    "print(\"\\nAjustes aplicados:\")\n",
    "print(f\"- Tamanho dos vértices reduzido para {default_vertex_size}\")\n",
    "print(f\"- Espessura das arestas reduzida para {default_edge_width}\")"
   ]
  },
  {
   "cell_type": "code",
   "execution_count": 16,
   "id": "370ebd11-6a38-4794-acf2-af7cd9ddad89",
   "metadata": {
    "execution": {
     "iopub.execute_input": "2025-03-25T19:26:44.288066Z",
     "iopub.status.busy": "2025-03-25T19:26:44.287727Z",
     "iopub.status.idle": "2025-03-25T19:26:45.998655Z",
     "shell.execute_reply": "2025-03-25T19:26:45.997344Z",
     "shell.execute_reply.started": "2025-03-25T19:26:44.288039Z"
    }
   },
   "outputs": [],
   "source": [
    "layout = draw.sfdp_layout(g)\n",
    "gte.move(g, layout)\n",
    "gte.save(g, 'remittances_network_positioned_2.net.gz')"
   ]
  },
  {
   "cell_type": "code",
   "execution_count": 17,
   "id": "0e72a491-a2b0-4b6a-ae61-f9202f82ec94",
   "metadata": {
    "execution": {
     "iopub.execute_input": "2025-03-25T19:26:47.021750Z",
     "iopub.status.busy": "2025-03-25T19:26:47.020817Z",
     "iopub.status.idle": "2025-03-25T19:26:47.040478Z",
     "shell.execute_reply": "2025-03-25T19:26:47.039329Z",
     "shell.execute_reply.started": "2025-03-25T19:26:47.021680Z"
    }
   },
   "outputs": [
    {
     "data": {
      "text/html": [
       "\n",
       "        <div id=\"9es2dHijmcHtHCeMvmJNpu\"></div>\n",
       "        <script>netpixi.render('9es2dHijmcHtHCeMvmJNpu', '/static/__shared__/remittances_network_positioned_2.net.gz', 1.7777777777777777, true, false, false, true);</script>\n",
       "    "
      ],
      "text/plain": [
       "<IPython.core.display.HTML object>"
      ]
     },
     "metadata": {},
     "output_type": "display_data"
    },
    {
     "data": {
      "text/plain": [
       "<netpixi.Render at 0x7f3e763f8cd0>"
      ]
     },
     "execution_count": 17,
     "metadata": {},
     "output_type": "execute_result"
    }
   ],
   "source": [
    "netpixi.render('remittances_network_positioned_2.net.gz')"
   ]
  },
  {
   "cell_type": "code",
   "execution_count": 18,
   "id": "bb447e87-c920-40ca-a829-4ca540c92e7b",
   "metadata": {
    "execution": {
     "iopub.execute_input": "2025-03-25T19:26:48.195336Z",
     "iopub.status.busy": "2025-03-25T19:26:48.194894Z",
     "iopub.status.idle": "2025-03-25T19:26:54.122830Z",
     "shell.execute_reply": "2025-03-25T19:26:54.121387Z",
     "shell.execute_reply.started": "2025-03-25T19:26:48.195299Z"
    }
   },
   "outputs": [
    {
     "name": "stdout",
     "output_type": "stream",
     "text": [
      "Diagrama gerado: 'graph_closeness.png'\n"
     ]
    }
   ],
   "source": [
    "from graph_tool.centrality import closeness\n",
    "import graph_tool.all as gte\n",
    "\n",
    "# Calcular a centralidade de proximidade para cada vértice\n",
    "closeness_vp = closeness(g)\n",
    "\n",
    "# Extrair os valores de closeness para normalização\n",
    "closeness_values = np.array([closeness_vp[v] for v in g.vertices()])\n",
    "\n",
    "# Definir tamanho mínimo e máximo para os vértices (ajustáveis)\n",
    "min_size = 5   # tamanho mínimo\n",
    "max_size = 20  # tamanho máximo\n",
    "\n",
    "min_closeness = closeness_values.min()\n",
    "max_closeness = closeness_values.max()\n",
    "\n",
    "# Criar uma propriedade de vértice para os tamanhos baseados em closeness\n",
    "vertex_size_closeness = g.new_vp(\"double\")\n",
    "for v in g.vertices():\n",
    "    closeness_val = closeness_vp[v]\n",
    "    # Normalização linear dos valores para o intervalo [min_size, max_size]\n",
    "    if max_closeness > min_closeness:\n",
    "        normalized = (closeness_val - min_closeness) / (max_closeness - min_closeness)\n",
    "    else:\n",
    "        normalized = 0\n",
    "    vertex_size_closeness[v] = min_size + normalized * (max_size - min_size)\n",
    "\n",
    "# Posicionar o grafo utilizando o layout SFDP\n",
    "layout = gte.sfdp_layout(g)\n",
    "\n",
    "# Gerar o diagrama, definindo o tamanho dos vértices conforme o closeness\n",
    "gte.graph_draw(\n",
    "    g,\n",
    "    pos=layout,\n",
    "    vertex_size=vertex_size_closeness,\n",
    "    output_size=(1000, 1000),\n",
    "    output=\"graph_closeness.png\"\n",
    ")\n",
    "\n",
    "print(\"Diagrama gerado: 'graph_closeness.png'\")\n"
   ]
  },
  {
   "cell_type": "code",
   "execution_count": 19,
   "id": "4ab56d48-b884-41a1-a6b6-7aef7fe52a73",
   "metadata": {
    "execution": {
     "iopub.execute_input": "2025-03-25T19:26:54.124966Z",
     "iopub.status.busy": "2025-03-25T19:26:54.124498Z",
     "iopub.status.idle": "2025-03-25T19:27:00.080330Z",
     "shell.execute_reply": "2025-03-25T19:27:00.079019Z",
     "shell.execute_reply.started": "2025-03-25T19:26:54.124935Z"
    }
   },
   "outputs": [
    {
     "name": "stdout",
     "output_type": "stream",
     "text": [
      "Diagrama gerado: 'graph_degree.png'\n"
     ]
    }
   ],
   "source": [
    "# Calcular o degree (grau) para cada vértice\n",
    "# Em uma rede direcionada, podemos olhar para grau de entrada, saída ou total\n",
    "\n",
    "# Criar uma propriedade de vértice para o grau\n",
    "degree_prop = g.new_vp(\"int\")\n",
    "\n",
    "# Calcular o grau total (entrada + saída) para cada vértice\n",
    "for v in g.vertices():\n",
    "    # Em uma rede direcionada, o grau total é a soma do grau de entrada e saída\n",
    "    in_deg = v.in_degree()\n",
    "    out_deg = v.out_degree()\n",
    "    degree_prop[v] = in_deg + out_deg\n",
    "\n",
    "# Extrair os valores de degree para normalização\n",
    "degree_values = np.array([degree_prop[v] for v in g.vertices()])\n",
    "\n",
    "# Definir tamanho mínimo e máximo para os vértices\n",
    "min_size = 5   # tamanho mínimo\n",
    "max_size = 20  # tamanho máximo\n",
    "\n",
    "min_degree = degree_values.min()\n",
    "max_degree = degree_values.max()\n",
    "\n",
    "# Criar uma propriedade de vértice para os tamanhos baseados no degree\n",
    "vertex_size_degree = g.new_vp(\"double\")\n",
    "for v in g.vertices():\n",
    "    degree_val = degree_prop[v]\n",
    "    # Normalização linear dos valores para o intervalo [min_size, max_size]\n",
    "    if max_degree > min_degree:\n",
    "        normalized = (degree_val - min_degree) / (max_degree - min_degree)\n",
    "    else:\n",
    "        normalized = 0\n",
    "    vertex_size_degree[v] = min_size + normalized * (max_size - min_size)\n",
    "\n",
    "# Posicionar o grafo utilizando o layout SFDP\n",
    "layout = gte.sfdp_layout(g)\n",
    "\n",
    "# Gerar o diagrama, definindo o tamanho dos vértices conforme o degree\n",
    "gte.graph_draw(\n",
    "    g,\n",
    "    pos=layout,\n",
    "    vertex_size=vertex_size_degree,\n",
    "    output_size=(1000, 1000),\n",
    "    output=\"graph_degree.png\"\n",
    ")\n",
    "\n",
    "print(\"Diagrama gerado: 'graph_degree.png'\")"
   ]
  },
  {
   "cell_type": "code",
   "execution_count": 20,
   "id": "a8134b00-bbc9-453a-83f0-5b077c257c02",
   "metadata": {
    "execution": {
     "iopub.execute_input": "2025-03-25T19:27:00.081999Z",
     "iopub.status.busy": "2025-03-25T19:27:00.081481Z",
     "iopub.status.idle": "2025-03-25T19:27:05.947558Z",
     "shell.execute_reply": "2025-03-25T19:27:05.946085Z",
     "shell.execute_reply.started": "2025-03-25T19:27:00.081947Z"
    }
   },
   "outputs": [
    {
     "name": "stdout",
     "output_type": "stream",
     "text": [
      "Diagrama gerado: 'graph_betweenness.png'\n"
     ]
    }
   ],
   "source": [
    "from graph_tool.centrality import betweenness\n",
    "\n",
    "# Calcular a centralidade de intermediação (betweenness) para cada vértice\n",
    "vertex_betweenness, edge_betweenness = betweenness(g)\n",
    "\n",
    "# Extrair os valores de betweenness para normalização\n",
    "betweenness_values = np.array([vertex_betweenness[v] for v in g.vertices()])\n",
    "\n",
    "# Definir tamanho mínimo e máximo para os vértices\n",
    "min_size = 5   # tamanho mínimo\n",
    "max_size = 20  # tamanho máximo\n",
    "\n",
    "min_betweenness = betweenness_values.min()\n",
    "max_betweenness = betweenness_values.max()\n",
    "\n",
    "# Criar uma propriedade de vértice para os tamanhos baseados em betweenness\n",
    "vertex_size_betweenness = g.new_vp(\"double\")\n",
    "for v in g.vertices():\n",
    "    betweenness_val = vertex_betweenness[v]\n",
    "    # Normalização linear dos valores para o intervalo [min_size, max_size]\n",
    "    if max_betweenness > min_betweenness:\n",
    "        normalized = (betweenness_val - min_betweenness) / (max_betweenness - min_betweenness)\n",
    "    else:\n",
    "        normalized = 0\n",
    "    vertex_size_betweenness[v] = min_size + normalized * (max_size - min_size)\n",
    "\n",
    "# Posicionar o grafo utilizando o layout SFDP\n",
    "layout = gte.sfdp_layout(g)\n",
    "\n",
    "# Gerar o diagrama, definindo o tamanho dos vértices conforme o betweenness\n",
    "gte.graph_draw(\n",
    "    g,\n",
    "    pos=layout,\n",
    "    vertex_size=vertex_size_betweenness,\n",
    "    output_size=(1000, 1000),\n",
    "    output=\"graph_betweenness.png\"\n",
    ")\n",
    "\n",
    "print(\"Diagrama gerado: 'graph_betweenness.png'\")"
   ]
  },
  {
   "cell_type": "code",
   "execution_count": 22,
   "id": "b6261050-a704-4402-bae8-b5020361d4a2",
   "metadata": {
    "execution": {
     "iopub.execute_input": "2025-03-25T19:28:10.956827Z",
     "iopub.status.busy": "2025-03-25T19:28:10.955907Z",
     "iopub.status.idle": "2025-03-25T19:29:36.569623Z",
     "shell.execute_reply": "2025-03-25T19:29:36.567949Z",
     "shell.execute_reply.started": "2025-03-25T19:28:10.956724Z"
    }
   },
   "outputs": [
    {
     "ename": "KeyboardInterrupt",
     "evalue": "",
     "output_type": "error",
     "traceback": [
      "\u001b[0;31m---------------------------------------------------------------------------\u001b[0m",
      "\u001b[0;31mKeyboardInterrupt\u001b[0m                         Traceback (most recent call last)",
      "Cell \u001b[0;32mIn[22], line 36\u001b[0m\n\u001b[1;32m     34\u001b[0m constraint_prop \u001b[38;5;241m=\u001b[39m g\u001b[38;5;241m.\u001b[39mnew_vp(\u001b[38;5;124m\"\u001b[39m\u001b[38;5;124mdouble\u001b[39m\u001b[38;5;124m\"\u001b[39m)\n\u001b[1;32m     35\u001b[0m \u001b[38;5;28;01mfor\u001b[39;00m v \u001b[38;5;129;01min\u001b[39;00m g\u001b[38;5;241m.\u001b[39mvertices():\n\u001b[0;32m---> 36\u001b[0m     constraint_prop[v] \u001b[38;5;241m=\u001b[39m \u001b[43mcalculate_constraint\u001b[49m\u001b[43m(\u001b[49m\u001b[43mg\u001b[49m\u001b[43m,\u001b[49m\u001b[43m \u001b[49m\u001b[43mv\u001b[49m\u001b[43m)\u001b[49m\n\u001b[1;32m     38\u001b[0m \u001b[38;5;66;03m# Extrair os valores de restrição para normalização\u001b[39;00m\n\u001b[1;32m     39\u001b[0m constraint_values \u001b[38;5;241m=\u001b[39m np\u001b[38;5;241m.\u001b[39marray([constraint_prop[v] \u001b[38;5;28;01mfor\u001b[39;00m v \u001b[38;5;129;01min\u001b[39;00m g\u001b[38;5;241m.\u001b[39mvertices()])\n",
      "Cell \u001b[0;32mIn[22], line 25\u001b[0m, in \u001b[0;36mcalculate_constraint\u001b[0;34m(g, v)\u001b[0m\n\u001b[1;32m     22\u001b[0m \u001b[38;5;28;01mif\u001b[39;00m q \u001b[38;5;241m!=\u001b[39m j:\n\u001b[1;32m     23\u001b[0m     \u001b[38;5;66;03m# Verificar se há uma conexão entre q e j\u001b[39;00m\n\u001b[1;32m     24\u001b[0m     \u001b[38;5;28;01mif\u001b[39;00m g\u001b[38;5;241m.\u001b[39medge(q, j) \u001b[38;5;129;01mis\u001b[39;00m \u001b[38;5;129;01mnot\u001b[39;00m \u001b[38;5;28;01mNone\u001b[39;00m:\n\u001b[0;32m---> 25\u001b[0m         q_neighbors \u001b[38;5;241m=\u001b[39m \u001b[38;5;28;43mlist\u001b[39;49m\u001b[43m(\u001b[49m\u001b[43mq\u001b[49m\u001b[38;5;241;43m.\u001b[39;49m\u001b[43mout_neighbors\u001b[49m\u001b[43m(\u001b[49m\u001b[43m)\u001b[49m\u001b[43m)\u001b[49m\n\u001b[1;32m     26\u001b[0m         \u001b[38;5;28;01mif\u001b[39;00m \u001b[38;5;28mlen\u001b[39m(q_neighbors) \u001b[38;5;241m>\u001b[39m \u001b[38;5;241m0\u001b[39m:\n\u001b[1;32m     27\u001b[0m             indirect \u001b[38;5;241m+\u001b[39m\u001b[38;5;241m=\u001b[39m p[q] \u001b[38;5;241m*\u001b[39m (\u001b[38;5;241m1.0\u001b[39m \u001b[38;5;241m/\u001b[39m \u001b[38;5;28mlen\u001b[39m(q_neighbors))\n",
      "\u001b[0;31mKeyboardInterrupt\u001b[0m: "
     ]
    }
   ],
   "source": []
  },
  {
   "cell_type": "code",
   "execution_count": 23,
   "id": "051c6fb2-61df-4314-b3a6-a498c98712e7",
   "metadata": {
    "execution": {
     "iopub.execute_input": "2025-03-25T19:29:53.588650Z",
     "iopub.status.busy": "2025-03-25T19:29:53.587717Z",
     "iopub.status.idle": "2025-03-25T19:30:00.162589Z",
     "shell.execute_reply": "2025-03-25T19:30:00.161149Z",
     "shell.execute_reply.started": "2025-03-25T19:29:53.588577Z"
    }
   },
   "outputs": [
    {
     "name": "stdout",
     "output_type": "stream",
     "text": [
      "Diagrama gerado: 'graph_structural_holes.png'\n"
     ]
    }
   ],
   "source": [
    "# Versão simplificada e mais eficiente para calcular uma métrica de restrição estrutural\n",
    "# Em vez de calcular a restrição completa de Burt, vamos usar uma medida relacionada\n",
    "# chamada \"coeficiente de agrupamento local\" (local clustering coefficient)\n",
    "from graph_tool.clustering import local_clustering\n",
    "\n",
    "# Calcular o coeficiente de agrupamento local (relacionado à restrição)\n",
    "clustering_prop = local_clustering(g)\n",
    "\n",
    "# Extrair os valores de clustering para normalização\n",
    "clustering_values = np.array([clustering_prop[v] for v in g.vertices()])\n",
    "\n",
    "# Definir tamanho mínimo e máximo para os vértices\n",
    "min_size = 5   # tamanho mínimo\n",
    "max_size = 20  # tamanho máximo\n",
    "\n",
    "# Lidar com possíveis NaN (Not a Number) resultados de divisão por zero\n",
    "clustering_values = np.nan_to_num(clustering_values)\n",
    "\n",
    "min_clustering = clustering_values.min()\n",
    "max_clustering = clustering_values.max()\n",
    "\n",
    "# Criar uma propriedade de vértice para os tamanhos\n",
    "# O clustering é proporcional à restrição - maior clustering = maior restrição\n",
    "vertex_size_clustering = g.new_vp(\"double\")\n",
    "for v in g.vertices():\n",
    "    clustering_val = clustering_prop[v]\n",
    "    if np.isnan(clustering_val):\n",
    "        clustering_val = 0\n",
    "    \n",
    "    # Invertemos para que menor clustering (≈ menor restrição) = maior nó\n",
    "    if max_clustering > min_clustering:\n",
    "        normalized = 1 - ((clustering_val - min_clustering) / (max_clustering - min_clustering))\n",
    "    else:\n",
    "        normalized = 0\n",
    "    \n",
    "    vertex_size_clustering[v] = min_size + normalized * (max_size - min_size)\n",
    "\n",
    "# Posicionar o grafo utilizando o layout SFDP\n",
    "layout = gte.sfdp_layout(g)\n",
    "\n",
    "# Gerar o diagrama\n",
    "gte.graph_draw(\n",
    "    g,\n",
    "    pos=layout,\n",
    "    vertex_size=vertex_size_clustering,\n",
    "    output_size=(1000, 1000),\n",
    "    output=\"graph_structural_holes.png\"\n",
    ")\n",
    "\n",
    "print(\"Diagrama gerado: 'graph_structural_holes.png'\")"
   ]
  },
  {
   "cell_type": "code",
   "execution_count": 24,
   "id": "8f4f7afb-6eb1-452f-82ec-2193998db9a3",
   "metadata": {
    "execution": {
     "iopub.execute_input": "2025-03-25T19:32:09.234471Z",
     "iopub.status.busy": "2025-03-25T19:32:09.234044Z",
     "iopub.status.idle": "2025-03-25T19:32:15.640924Z",
     "shell.execute_reply": "2025-03-25T19:32:15.639674Z",
     "shell.execute_reply.started": "2025-03-25T19:32:09.234405Z"
    }
   },
   "outputs": [
    {
     "name": "stdout",
     "output_type": "stream",
     "text": [
      "Diagrama gerado: 'graph_core_periphery.png'\n"
     ]
    }
   ],
   "source": [
    "from graph_tool.topology import kcore_decomposition\n",
    "\n",
    "# Calcular a decomposição k-core\n",
    "# Esta é uma boa aproximação para uma medida contínua de centro-periferia\n",
    "kcore = kcore_decomposition(g)\n",
    "\n",
    "# Extrair os valores de k-core para normalização\n",
    "kcore_values = np.array([kcore[v] for v in g.vertices()])\n",
    "\n",
    "# Definir tamanho mínimo e máximo para os vértices\n",
    "min_size = 5   # tamanho mínimo\n",
    "max_size = 20  # tamanho máximo\n",
    "\n",
    "min_kcore = kcore_values.min()\n",
    "max_kcore = kcore_values.max()\n",
    "\n",
    "# Criar uma propriedade de vértice para os tamanhos baseados no k-core\n",
    "# Valores maiores de k-core indicam posição mais central\n",
    "vertex_size_coreness = g.new_vp(\"double\")\n",
    "for v in g.vertices():\n",
    "    kcore_val = kcore[v]\n",
    "    # Normalização linear dos valores para o intervalo [min_size, max_size]\n",
    "    if max_kcore > min_kcore:\n",
    "        normalized = (kcore_val - min_kcore) / (max_kcore - min_kcore)\n",
    "    else:\n",
    "        normalized = 0\n",
    "    vertex_size_coreness[v] = min_size + normalized * (max_size - min_size)\n",
    "\n",
    "# Posicionar o grafo utilizando o layout SFDP\n",
    "layout = gte.sfdp_layout(g)\n",
    "\n",
    "# Gerar o diagrama, definindo o tamanho dos vértices conforme o k-core\n",
    "gte.graph_draw(\n",
    "    g,\n",
    "    pos=layout,\n",
    "    vertex_size=vertex_size_coreness,\n",
    "    output_size=(1000, 1000),\n",
    "    output=\"graph_core_periphery.png\"\n",
    ")\n",
    "\n",
    "print(\"Diagrama gerado: 'graph_core_periphery.png'\")"
   ]
  },
  {
   "cell_type": "code",
   "execution_count": 25,
   "id": "9ae2b0e6-1128-497f-a0f0-10e706adc7f5",
   "metadata": {
    "execution": {
     "iopub.execute_input": "2025-03-25T19:33:38.520684Z",
     "iopub.status.busy": "2025-03-25T19:33:38.519755Z",
     "iopub.status.idle": "2025-03-25T19:33:44.421258Z",
     "shell.execute_reply": "2025-03-25T19:33:44.419951Z",
     "shell.execute_reply.started": "2025-03-25T19:33:38.520586Z"
    }
   },
   "outputs": [
    {
     "name": "stdout",
     "output_type": "stream",
     "text": [
      "Diagrama gerado: 'graph_discrete_core_periphery.png'\n",
      "Classificação centro-periferia:\n",
      "- Nós no centro: 54 (27.1%)\n",
      "- Nós na periferia: 145 (72.9%)\n"
     ]
    }
   ],
   "source": [
    "from graph_tool.topology import kcore_decomposition\n",
    "import numpy as np\n",
    "\n",
    "# Usar k-core decomposition como base para identificar centro-periferia\n",
    "kcore = kcore_decomposition(g)\n",
    "\n",
    "# Extrair os valores de k-core\n",
    "kcore_values = np.array([kcore[v] for v in g.vertices()])\n",
    "\n",
    "# Encontrar um threshold para dividir discretamente entre centro e periferia\n",
    "# Podemos usar a mediana ou um percentil específico\n",
    "kcore_threshold = np.percentile(kcore_values, 75)  # Usando o percentil 75 (top 25% = centro)\n",
    "\n",
    "# Criar uma propriedade discreta de centro-periferia\n",
    "# 1 = centro, 0 = periferia\n",
    "core_periphery = g.new_vp(\"int\")\n",
    "for v in g.vertices():\n",
    "    if kcore[v] >= kcore_threshold:\n",
    "        core_periphery[v] = 1  # Centro\n",
    "    else:\n",
    "        core_periphery[v] = 0  # Periferia\n",
    "\n",
    "# Definir tamanhos para centro e periferia\n",
    "center_size = 15    # Tamanho para nós do centro\n",
    "periphery_size = 5  # Tamanho para nós da periferia\n",
    "\n",
    "# Criar propriedade de tamanho baseada na classificação discreta\n",
    "vertex_size_discrete = g.new_vp(\"double\")\n",
    "for v in g.vertices():\n",
    "    if core_periphery[v] == 1:\n",
    "        vertex_size_discrete[v] = center_size\n",
    "    else:\n",
    "        vertex_size_discrete[v] = periphery_size\n",
    "\n",
    "# Posicionar o grafo utilizando o layout SFDP\n",
    "layout = gte.sfdp_layout(g)\n",
    "\n",
    "# Também vamos colorir os nós de acordo com sua classificação\n",
    "vertex_color = g.new_vp(\"vector<double>\")\n",
    "for v in g.vertices():\n",
    "    if core_periphery[v] == 1:\n",
    "        vertex_color[v] = [0.2, 0.4, 0.8, 0.8]  # Azul para centro\n",
    "    else:\n",
    "        vertex_color[v] = [0.8, 0.4, 0.2, 0.8]  # Laranja para periferia\n",
    "\n",
    "# Gerar o diagrama com tamanhos e cores discretos\n",
    "gte.graph_draw(\n",
    "    g,\n",
    "    pos=layout,\n",
    "    vertex_size=vertex_size_discrete,\n",
    "    vertex_fill_color=vertex_color,\n",
    "    output_size=(1000, 1000),\n",
    "    output=\"graph_discrete_core_periphery.png\"\n",
    ")\n",
    "\n",
    "# Imprimir estatísticas sobre a classificação\n",
    "num_core = sum(1 for v in g.vertices() if core_periphery[v] == 1)\n",
    "num_periphery = g.num_vertices() - num_core\n",
    "print(f\"Diagrama gerado: 'graph_discrete_core_periphery.png'\")\n",
    "print(f\"Classificação centro-periferia:\")\n",
    "print(f\"- Nós no centro: {num_core} ({(num_core/g.num_vertices())*100:.1f}%)\")\n",
    "print(f\"- Nós na periferia: {num_periphery} ({(num_periphery/g.num_vertices())*100:.1f}%)\")"
   ]
  },
  {
   "cell_type": "code",
   "execution_count": 26,
   "id": "b4e82505-0e54-4f56-8e02-ee651993f8f3",
   "metadata": {
    "execution": {
     "iopub.execute_input": "2025-03-25T19:35:21.810013Z",
     "iopub.status.busy": "2025-03-25T19:35:21.809051Z",
     "iopub.status.idle": "2025-03-25T19:35:24.638936Z",
     "shell.execute_reply": "2025-03-25T19:35:24.637687Z",
     "shell.execute_reply.started": "2025-03-25T19:35:21.809938Z"
    }
   },
   "outputs": [
    {
     "name": "stdout",
     "output_type": "stream",
     "text": [
      "Distribuição de degree salva como 'degree_distribution.png'\n",
      "\n",
      "Estatísticas da distribuição de degree:\n",
      "- Degree médio: 117.46\n",
      "- Degree mediano: 91.00\n",
      "- Degree máximo: 368\n",
      "- Degree mínimo: 5\n",
      "- Inclinação da distribuição em log-log: 0.57\n",
      "- R² da regressão linear: 0.51\n"
     ]
    }
   ],
   "source": [
    "import matplotlib.pyplot as plt\n",
    "import numpy as np\n",
    "\n",
    "# Calcular in-degree, out-degree e total degree para cada vértice\n",
    "in_degrees = np.array([v.in_degree() for v in g.vertices()])\n",
    "out_degrees = np.array([v.out_degree() for v in g.vertices()])\n",
    "total_degrees = in_degrees + out_degrees\n",
    "\n",
    "# Criar figura com 3 subplots para diferentes tipos de degree\n",
    "fig, axs = plt.subplots(3, 1, figsize=(10, 15))\n",
    "\n",
    "# 1. Histograma regular da distribuição de degree\n",
    "axs[0].hist(total_degrees, bins=30, alpha=0.7, color='blue')\n",
    "axs[0].set_title('Distribuição de Degree (Total)')\n",
    "axs[0].set_xlabel('Degree (Total)')\n",
    "axs[0].set_ylabel('Número de Países')\n",
    "axs[0].grid(True, alpha=0.3)\n",
    "\n",
    "# 2. Histograma em escala log-log (útil para identificar power law)\n",
    "# Remover zeros antes de aplicar log\n",
    "nonzero_degrees = total_degrees[total_degrees > 0]\n",
    "\n",
    "if len(nonzero_degrees) > 0:\n",
    "    # Criar bins em escala logarítmica\n",
    "    log_bins = np.logspace(np.log10(nonzero_degrees.min()), \n",
    "                         np.log10(nonzero_degrees.max()), \n",
    "                         20)\n",
    "    \n",
    "    # Plotar histograma com escala log-log\n",
    "    axs[1].hist(nonzero_degrees, bins=log_bins, alpha=0.7, color='green')\n",
    "    axs[1].set_xscale('log')\n",
    "    axs[1].set_yscale('log')\n",
    "    axs[1].set_title('Distribuição de Degree (Log-Log)')\n",
    "    axs[1].set_xlabel('Log(Degree)')\n",
    "    axs[1].set_ylabel('Log(Frequência)')\n",
    "    axs[1].grid(True, alpha=0.3)\n",
    "\n",
    "# 3. Gráfico complementar de distribuição cumulativa (CCDF)\n",
    "# Frequentemente usado para analisar distribuições power-law\n",
    "sorted_degrees = np.sort(total_degrees)\n",
    "ccdf = 1 - np.arange(1, len(sorted_degrees) + 1) / len(sorted_degrees)\n",
    "\n",
    "axs[2].scatter(sorted_degrees, ccdf, alpha=0.7, color='red')\n",
    "axs[2].set_xscale('log')\n",
    "axs[2].set_yscale('log')\n",
    "axs[2].set_title('Distribuição Cumulativa Complementar (CCDF)')\n",
    "axs[2].set_xlabel('Degree (k)')\n",
    "axs[2].set_ylabel('P(K ≥ k)')\n",
    "axs[2].grid(True, alpha=0.3)\n",
    "\n",
    "# Ajustar layout e salvar\n",
    "plt.tight_layout()\n",
    "plt.savefig('degree_distribution.png', dpi=300)\n",
    "plt.close()\n",
    "\n",
    "print(\"Distribuição de degree salva como 'degree_distribution.png'\")\n",
    "\n",
    "# Estatísticas adicionais\n",
    "mean_degree = np.mean(total_degrees)\n",
    "median_degree = np.median(total_degrees)\n",
    "max_degree = np.max(total_degrees)\n",
    "min_degree = np.min(total_degrees)\n",
    "\n",
    "print(f\"\\nEstatísticas da distribuição de degree:\")\n",
    "print(f\"- Degree médio: {mean_degree:.2f}\")\n",
    "print(f\"- Degree mediano: {median_degree:.2f}\")\n",
    "print(f\"- Degree máximo: {max_degree}\")\n",
    "print(f\"- Degree mínimo: {min_degree}\")\n",
    "\n",
    "# Se houver evidência de power law, verificar a inclinação (alfa)\n",
    "if len(nonzero_degrees) > 0:\n",
    "    log_degrees = np.log10(nonzero_degrees)\n",
    "    log_freq, _ = np.histogram(log_degrees, bins=20)\n",
    "    # Filtrar para remover frequências zeradas\n",
    "    nonzero_indices = log_freq > 0\n",
    "    if np.sum(nonzero_indices) > 2:  # Precisamos de pelo menos 3 pontos\n",
    "        from scipy import stats\n",
    "        # Calcular a inclinação da linha no gráfico log-log\n",
    "        bin_centers = (_[:-1] + _[1:]) / 2\n",
    "        bin_centers = bin_centers[nonzero_indices]\n",
    "        log_freq = log_freq[nonzero_indices]\n",
    "        log_freq = np.log10(log_freq)\n",
    "        \n",
    "        slope, intercept, r_value, p_value, std_err = stats.linregress(bin_centers, log_freq)\n",
    "        print(f\"- Inclinação da distribuição em log-log: {slope:.2f}\")\n",
    "        print(f\"- R² da regressão linear: {r_value**2:.2f}\")\n",
    "        \n",
    "        if r_value**2 > 0.8 and slope < 0:\n",
    "            print(\"- Há evidência de distribuição power-law (cauda longa)\")\n",
    "            if slope < -2:\n",
    "                print(\"- Inclinação fortemente negativa sugere estrutura centro-periferia bem definida\")"
   ]
  },
  {
   "cell_type": "code",
   "execution_count": null,
   "id": "4fdd963e-2352-4c06-ae42-cb1fcb75abad",
   "metadata": {},
   "outputs": [],
   "source": []
  }
 ],
 "metadata": {
  "kernelspec": {
   "display_name": "Python 3 (ipykernel)",
   "language": "python",
   "name": "python3"
  },
  "language_info": {
   "codemirror_mode": {
    "name": "ipython",
    "version": 3
   },
   "file_extension": ".py",
   "mimetype": "text/x-python",
   "name": "python",
   "nbconvert_exporter": "python",
   "pygments_lexer": "ipython3",
   "version": "3.13.1"
  }
 },
 "nbformat": 4,
 "nbformat_minor": 5
}
